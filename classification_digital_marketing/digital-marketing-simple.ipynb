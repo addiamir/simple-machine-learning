{
 "cells": [
  {
   "cell_type": "code",
   "execution_count": null,
   "source": [
    "import pandas as pd\r\n",
    "import numpy as ny\r\n"
   ],
   "outputs": [],
   "metadata": {}
  }
 ],
 "metadata": {
  "orig_nbformat": 4,
  "language_info": {
   "name": "python",
   "version": "3.8.10"
  },
  "kernelspec": {
   "name": "python3",
   "display_name": "Python 3.8.10 64-bit ('minianalyst': conda)"
  },
  "interpreter": {
   "hash": "33484b1841f2c9be47510c7266d98cba4731176c8b6061d78f0bf61b157743ce"
  }
 },
 "nbformat": 4,
 "nbformat_minor": 2
}